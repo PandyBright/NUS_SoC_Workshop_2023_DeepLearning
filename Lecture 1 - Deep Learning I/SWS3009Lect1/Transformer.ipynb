{
 "cells": [
  {
   "cell_type": "markdown",
   "metadata": {},
   "source": [
    "# Transformer Implementation Example\n",
    "\n",
    "In this notebook we look at how to implement a transformer using Keras. Our job here is to use a transformer to do sentiment analysis based on the IMDB dataset.\n",
    "\n",
    "We will make use of the Keras MultiHeadAttention layer, and also see how the add and normalize (Add&Norm) works. For reference, this is what a Transformer block looks like:\n",
    "\n",
    "![Trsnsformer](https://d2l.ai/_images/transformer.svg)\n",
    "\n",
    "\n",
    "Unlike the diagram above which has an encoder and a decoder transformer, here we will build just a single transformer. Nonetheless because we are presenting all the tokens as a single vector at the same time (unlike in LSTMs where we present a sliding window), we therefore also need to encode the position of the tokens"
   ]
  },
  {
   "cell_type": "code",
   "execution_count": null,
   "metadata": {
    "colab": {
     "base_uri": "https://localhost:8080/"
    },
    "id": "alxxRGkguhfY",
    "outputId": "f6dbcf9f-2f43-4053-a3d8-93f078bb9ef8"
   },
   "outputs": [],
   "source": [
    "import tensorflow as tf\n",
    "from tensorflow import keras\n",
    "from tensorflow.keras import layers\n",
    "\n",
    "version=2\n",
    "\n",
    "class TransformerBlock(layers.Layer):\n",
    "    def __init__(self, embed_dim, num_heads, ff_dim, rate=0.1):\n",
    "      super().__init__()\n",
    "    \n",
    "        # Multihead Attention layer\n",
    "      self.att = layers.MultiHeadAttention(num_heads=num_heads, key_dim=embed_dim)\n",
    "        # Feed forward layer\n",
    "      self.ffn = keras.Sequential(\n",
    "          [layers.Dense(ff_dim, activation='relu'), layers.Dense(embed_dim),])\n",
    "    \n",
    "        # The two add and norm layers\n",
    "      self.layernorm1 = layers.LayerNormalization(epsilon=1e-6)\n",
    "      self.layernorm2 = layers.LayerNormalization(epsilon=1e-6)\n",
    "        \n",
    "        # Dropouts to control overfitting\n",
    "      self.dropout1 = layers.Dropout(rate)\n",
    "      self.dropout2 = layers.Dropout(rate)\n",
    "\n",
    "    def call(self, inputs, training):\n",
    "        # Pass the input to the multihead attention layer\n",
    "      attn_output = self.att(inputs, inputs)\n",
    "      attn_output = self.dropout1(attn_output, training = training)\n",
    "        # Add and norm the attention layer output and input \n",
    "      out1 = self.layernorm1(inputs + attn_output)\n",
    "        # Feed to feedforward network\n",
    "      ffn_output = self.ffn(out1)\n",
    "      ffn_output = self.dropout2(ffn_output, training=training)\n",
    "        # Add and norm with output of feedforward network and output of\n",
    "        # multihead attention layer.\n",
    "      return self.layernorm2(out1 + ffn_output)\n",
    "\n",
    "# Token and position embedding which goes to the output network.\n",
    "class TokenAndPositionEmbedding(layers.Layer):\n",
    "  def __init__(self, maxlen, vocab_size, embed_dim):\n",
    "    super().__init__()\n",
    "    \n",
    "    # Token embedding\n",
    "    self.token_emb = layers.Embedding(input_dim = vocab_size, output_dim = embed_dim)\n",
    "    # Position embedding. Basically the positions just go from 1 to maxlen\n",
    "    self.pos_emb = layers.Embedding(input_dim = maxlen, output_dim = embed_dim)\n",
    "\n",
    "  def call(self, x):\n",
    "    maxlen = tf.shape(x)[-1]\n",
    "    \n",
    "    # Create the position embedding. Just goes from 1 to maxlen-1.\n",
    "    positions = tf.range(start=0, limit=maxlen, delta=1)\n",
    "    positions = self.pos_emb(positions)\n",
    "    \n",
    "    # Embedded the input tokens\n",
    "    x = self.token_emb(x)\n",
    "    \n",
    "    # Return addition of token positions and embeddings\n",
    "    return x + positions\n",
    "\n",
    "\n",
    "\n"
   ]
  },
  {
   "cell_type": "markdown",
   "metadata": {},
   "source": [
    "Our next job now is to download the IMDB reviews database."
   ]
  },
  {
   "cell_type": "code",
   "execution_count": null,
   "metadata": {},
   "outputs": [],
   "source": [
    "vocab_size = 20000\n",
    "maxlen = 200\n",
    "\n",
    "# Load the IMDB database. Pad to fixed length.\n",
    "(x_train, y_train), (x_val, y_val) = keras.datasets.imdb.load_data(num_words = vocab_size)\n",
    "print(len(x_train), \" Training Sequences\")\n",
    "print(len(x_val), \" Testing Sequences\")\n",
    "x_train = keras.utils.pad_sequences(x_train, maxlen=maxlen)\n",
    "x_val = keras.utils.pad_sequences(x_val, maxlen=maxlen)"
   ]
  },
  {
   "cell_type": "markdown",
   "metadata": {},
   "source": [
    "We will now construct our sentiment analysis transformer. We will have an input that is of a fixed length of tokens, then create an embedding layer that will estblish relationships between the tokens, and then two transformer blocks, a pooling layer, and finally two Dense layers to do the sentiment analysis.\n",
    "\n",
    "We actually only require one transformer block, but this is a good example of how to chain multiple transformer blocks together."
   ]
  },
  {
   "cell_type": "code",
   "execution_count": null,
   "metadata": {
    "colab": {
     "base_uri": "https://localhost:8080/"
    },
    "id": "RRqhW9LBM7Xl",
    "outputId": "d588a51d-1ecd-467b-a007-5cb2fc118a3a"
   },
   "outputs": [],
   "source": [
    "embed_dim = 32  # Embedding size for each token\n",
    "num_heads = 2  # Number of attention heads\n",
    "ff_dim = 32  # Hidden layer size in feed forward network inside transformer\n",
    "\n",
    "# Create the transformer with multiple blocks.\n",
    "inputs = layers.Input(shape=(maxlen,))\n",
    "embedding_layer = TokenAndPositionEmbedding(maxlen, vocab_size, embed_dim)\n",
    "x = embedding_layer(inputs)\n",
    "transformer_block = TransformerBlock(embed_dim, num_heads, ff_dim)\n",
    "transformer_block2 = TransformerBlock(embed_dim, num_heads, ff_dim)\n",
    "x = transformer_block(x)\n",
    "x = transformer_block2(x)\n",
    "x = layers.GlobalAveragePooling1D()(x)\n",
    "x = layers.Dropout(0.1)(x)\n",
    "x = layers.Dense(20, activation=\"relu\")(x)\n",
    "x = layers.Dropout(0.1)(x)\n",
    "outputs = layers.Dense(2, activation=\"softmax\")(x)\n",
    "\n",
    "print(model.summary())"
   ]
  },
  {
   "cell_type": "markdown",
   "metadata": {},
   "source": [
    "Finally we compile the model and train it."
   ]
  },
  {
   "cell_type": "code",
   "execution_count": null,
   "metadata": {
    "id": "uamfvoPURxGp"
   },
   "outputs": [],
   "source": [
    "model = keras.Model(inputs=inputs, outputs=outputs)\n",
    "model.compile(\n",
    "    optimizer=\"adam\", loss=\"sparse_categorical_crossentropy\", metrics=[\"accuracy\"]\n",
    ")\n",
    "history = model.fit(\n",
    "    x_train, y_train, batch_size=32, epochs=5, validation_data=(x_val, y_val)\n",
    ")"
   ]
  },
  {
   "cell_type": "markdown",
   "metadata": {},
   "source": [
    "We can see that the model trains to a very high level of training and validation accuracy."
   ]
  }
 ],
 "metadata": {
  "colab": {
   "provenance": []
  },
  "kernelspec": {
   "display_name": "Python 3 (ipykernel)",
   "language": "python",
   "name": "python3"
  },
  "language_info": {
   "codemirror_mode": {
    "name": "ipython",
    "version": 3
   },
   "file_extension": ".py",
   "mimetype": "text/x-python",
   "name": "python",
   "nbconvert_exporter": "python",
   "pygments_lexer": "ipython3",
   "version": "3.9.6"
  }
 },
 "nbformat": 4,
 "nbformat_minor": 1
}
