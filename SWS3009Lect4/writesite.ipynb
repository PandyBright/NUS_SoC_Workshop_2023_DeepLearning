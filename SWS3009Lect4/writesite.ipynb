{
 "cells": [
  {
   "cell_type": "markdown",
   "metadata": {},
   "source": [
    "# Communicating with Web Servers\n",
    "\n",
    "In this notebook we will use the \"requests\" class to send GET and POST requests to our server.\n",
    "\n",
    "## 1. Installing requests\n",
    "\n",
    "This is simple:\n",
    "\n",
    "```\n",
    "pip3 install requests\n",
    "```\n",
    "\n",
    "**Point of Confusion: In Flask we use the request class to access parameters passed to the server. Here we are talking about requests (note the extra 's' at the end) that is used to access websites through GET and POST.***\n",
    "\n",
    "## 2. Writing our Program\n",
    "\n",
    "We will now write a Python program that will write two documents to our test site (see testsite.ipynb), and read back the data.\n",
    "\n",
    "**Before starting, make sure you run the testsite.ipynb notebook in another tab so that our web server is running**\n",
    "\n",
    "### 2.1 Includes\n",
    "\n",
    "We will be passing in data in the form JSON so we include json and of course requests. We also include time so we can pause for 1 second between each call to write to the site's database:\n"
   ]
  },
  {
   "cell_type": "code",
   "execution_count": 7,
   "metadata": {},
   "outputs": [],
   "source": [
    "import json\n",
    "import time\n",
    "import requests\n",
    "\n"
   ]
  },
  {
   "cell_type": "markdown",
   "metadata": {},
   "source": [
    "### 2.2 Creating our Test Documents\n",
    "\n",
    "We will create two test documents that we will send to localhost:3237/put. \n"
   ]
  },
  {
   "cell_type": "code",
   "execution_count": 8,
   "metadata": {},
   "outputs": [],
   "source": [
    "doc1 = {\"name\":\"Document 1\", \"Description\":\"First test document\"}\n",
    "doc2 = {\"id\":1, \"Why\":\"We can do different formats!\"}\n",
    "\n"
   ]
  },
  {
   "cell_type": "markdown",
   "metadata": {},
   "source": [
    "### 2.3 Creating the POST requests\n",
    "\n",
    "To create the POST request we need to specify a header that simply tells us that the Content-type is application/json, and to use json.dumps to convert doc1 and doc2 into strings.  We also create a 'uri' variable to store our server name and port, for simplicity.\n",
    "\n",
    "We then call requests.post to post our documents:"
   ]
  },
  {
   "cell_type": "code",
   "execution_count": 10,
   "metadata": {},
   "outputs": [
    {
     "name": "stdout",
     "output_type": "stream",
     "text": [
      "Sending doc1\n",
      "Sending doc2\n",
      "Getting data\n",
      "Result:\n",
      "<html>\n",
      "    <head>\n",
      "        <title>Inserted Records</title>\n",
      "    </head>\n",
      "        <lr>\n",
      "        <br>\n",
      "            <p>DATABASE CONTENTS<p>\n",
      "            <br>\n",
      "            \n",
      "            <p>Record: {&#39;_id&#39;: ObjectId(&#39;613fd80624be7931df01a374&#39;), &#39;name&#39;: &#39;Document 1&#39;, &#39;Description&#39;: &#39;First test document&#39;} </p>\n",
      "            \n",
      "            <p>Record: {&#39;_id&#39;: ObjectId(&#39;613fd80724be7931df01a375&#39;), &#39;id&#39;: 1, &#39;Why&#39;: &#39;We can do different formats!&#39;} </p>\n",
      "            \n",
      "            <p>Record: {&#39;_id&#39;: ObjectId(&#39;61419727ef24b10e2cc0d54a&#39;), &#39;name&#39;: &#39;Document 1&#39;, &#39;Description&#39;: &#39;First test document&#39;} </p>\n",
      "            \n",
      "            <p>Record: {&#39;_id&#39;: ObjectId(&#39;61419728ef24b10e2cc0d54b&#39;), &#39;id&#39;: 1, &#39;Why&#39;: &#39;We can do different formats!&#39;} </p>\n",
      "            \n",
      "        <lr>\n",
      "        <br>\n",
      "    <body>\n",
      "    </body>\n",
      "</htm>\n"
     ]
    }
   ],
   "source": [
    "header = {'Content-type':'application/json'}\n",
    "\n",
    "uri = 'http://localhost:3237'\n",
    "\n",
    "# Send first document\n",
    "print(\"Sending doc1\")\n",
    "requests.post(uri + '/put', headers = header, data = json.dumps(doc1))\n",
    "\n",
    "time.sleep(1)\n",
    "print(\"Sending doc2\")\n",
    "requests.post(uri + '/put', headers = header, data = json.dumps(doc2))\n",
    "\n",
    "time.sleep(1)\n",
    "print(\"Getting data\")\n",
    "res = requests.get(uri + '/get')\n",
    "print(\"Result:\")\n",
    "print(res.text)"
   ]
  },
  {
   "cell_type": "markdown",
   "metadata": {},
   "source": [
    "## 3. What You Can Do\n",
    "\n",
    "This file would have inserted two records into your site's database. In the script above we used requests.get to get the records. You can do the same thing by pointing your browser to http://localhost:3237/get\n"
   ]
  },
  {
   "cell_type": "code",
   "execution_count": null,
   "metadata": {},
   "outputs": [],
   "source": []
  },
  {
   "cell_type": "code",
   "execution_count": null,
   "metadata": {},
   "outputs": [],
   "source": []
  }
 ],
 "metadata": {
  "kernelspec": {
   "display_name": "Python 3",
   "language": "python",
   "name": "python3"
  },
  "language_info": {
   "codemirror_mode": {
    "name": "ipython",
    "version": 3
   },
   "file_extension": ".py",
   "mimetype": "text/x-python",
   "name": "python",
   "nbconvert_exporter": "python",
   "pygments_lexer": "ipython3",
   "version": "3.6.8"
  }
 },
 "nbformat": 4,
 "nbformat_minor": 4
}
