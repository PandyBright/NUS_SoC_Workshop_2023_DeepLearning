{
 "cells": [
  {
   "cell_type": "markdown",
   "metadata": {},
   "source": [
    "# Decision Trees\n",
    "\n",
    "In this hands-on we will look at how to create a decision tree using Scikit-Learn. We will implement the tennis decision problem that we saw in the lecture.\n",
    "\n",
    "Our data is in the file tennis.csv, and consists of 14 rows (with one header row at the top of the file)\n",
    "\n",
    "***\n",
    "\n",
    "Outlook,Temp,Humidity,Wind,Decision\n",
    "\n",
    "Sunny,Hot,High,Weak,No\n",
    "\n",
    "Sunny,Hot,High,Strong,No\n",
    "\n",
    "Overcast,Hot,High,Weak,Yes\n",
    "\n",
    "Rain,Mild,High,Weak,Yes\n",
    "\n",
    "Rain,Cool,Normal,Weak,Yes\n",
    "\n",
    "Rain,Cool,Normal,Strong,No\n",
    "\n",
    "Overcast,Cool,Normal,Strong,Yes\n",
    "\n",
    "Sunny,Mild,High,Weak,No\n",
    "\n",
    "Sunny,Cool,Normal,Weak,Yes\n",
    "\n",
    "Rain,Mild,Normal,Weak,Yes\n",
    "\n",
    "Sunny,Mild,Normal,Strong,Yes\n",
    "\n",
    "Overcast,Mild,High,Strong,Yes\n",
    "\n",
    "Overcast,Hot,Normal,Weak,Yes\n",
    "\n",
    "Rain,Mild,High,Strong,No\n",
    "\n",
    "---\n",
    "\n",
    "For convenience we will load the data using a Pandas dataframe that automatically creates a dict data structure that lets us access each column using the column name.\n",
    "\n",
    "The DecisionTreeClassifier we are using only takes in numeric values, so we have to turn all our text values (Overcast, Hot, etc) into numeric labels. We will use the LabelEncoder to do this.\n",
    "\n",
    "Although we only have 14 training samples, we will set aside 5 for testing and use 9 for training.\n",
    "\n",
    "As always we import all the modules that we need. Here we will use accuracy_score to measure accurate our decision making is, based on historical data."
   ]
  },
  {
   "cell_type": "code",
   "execution_count": null,
   "metadata": {},
   "outputs": [],
   "source": [
    "import numpy as np                                                              \n",
    "import pandas as pd\n",
    "from sklearn.preprocessing import LabelEncoder\n",
    "from sklearn.model_selection import train_test_split\n",
    "from sklearn.tree import DecisionTreeClassifier\n",
    "from sklearn.metrics import accuracy_score"
   ]
  },
  {
   "cell_type": "markdown",
   "metadata": {},
   "source": [
    "We begin by loading our data into Pandas dataframe, then creating one LabelEncoder for each column, and learning the labels for each column and changing them to numeric values using fit_transform:"
   ]
  },
  {
   "cell_type": "code",
   "execution_count": null,
   "metadata": {},
   "outputs": [],
   "source": [
    "tennis_data = pd.read_csv('tennis.csv', sep='\\s*,\\s*', engine = 'python')\n",
    "o_l = LabelEncoder()\n",
    "t_l = LabelEncoder()\n",
    "h_l = LabelEncoder()\n",
    "w_l = LabelEncoder()\n",
    "d_l = LabelEncoder()\n",
    "\n",
    "t_outlook = o_l.fit_transform(tennis_data['Outlook'])\n",
    "t_temp = t_l.fit_transform(tennis_data['Temp'])\n",
    "t_humid = h_l.fit_transform(tennis_data['Humidity'])\n",
    "t_wind = w_l.fit_transform(tennis_data['Wind'])\n",
    "t_decision = d_l.fit_transform(tennis_data['Decision'])\n"
   ]
  },
  {
   "cell_type": "markdown",
   "metadata": {},
   "source": [
    "The t_outlook column now looks like this (the other columns will look similiar):"
   ]
  },
  {
   "cell_type": "code",
   "execution_count": null,
   "metadata": {},
   "outputs": [],
   "source": [
    "print(t_outlook)"
   ]
  },
  {
   "cell_type": "markdown",
   "metadata": {},
   "source": [
    "Each column is now a row vector, and we need to change them it into a column vector, then concatenate the vectors for the remaining columns together to form the input to the Decision Tree. We also convert the target into a column vector, and use train_test_split as before to put aside 5 samples for testing.\n",
    "\n",
    "(Note: If you want to specify actual number of testing samples, supply an integer to the test_size argument for train_test_split. If you want to specify a percentage, supply a float. So:\n",
    "\n",
    "X_train, X_test, Y_train, Y_test = train_test_split(X, Y, test_size = 5) # Put aside 5 samples for testing.\n",
    "\n",
    "X_train, X_test, Y_train, Y_test = train_test_split(X, Y, test_size = 5.0) # Put aside 5 percent of samples for testing.)\n"
   ]
  },
  {
   "cell_type": "code",
   "execution_count": null,
   "metadata": {},
   "outputs": [],
   "source": [
    "labels = np.concatenate((t_outlook.reshape(-1, 1),\n",
    "t_temp.reshape(-1, 1),\n",
    "t_humid.reshape(-1, 1),\n",
    "t_wind.reshape(-1, 1)), axis = 1)\n",
    "\n",
    "targets = t_decision.reshape(-1, 1)\n",
    "\n",
    "X_train, X_test, Y_train, Y_test = train_test_split(labels, targets,\n",
    "test_size = 5)"
   ]
  },
  {
   "cell_type": "markdown",
   "metadata": {},
   "source": [
    "Our training input and target values now look like this:"
   ]
  },
  {
   "cell_type": "code",
   "execution_count": null,
   "metadata": {},
   "outputs": [],
   "source": [
    "print(\"Training input:\")\n",
    "print(X_train)\n",
    "print(\"Training targets:\")\n",
    "print(Y_train)"
   ]
  },
  {
   "cell_type": "markdown",
   "metadata": {},
   "source": [
    "Now let's train our classifier:"
   ]
  },
  {
   "cell_type": "code",
   "execution_count": null,
   "metadata": {},
   "outputs": [],
   "source": [
    "clf = DecisionTreeClassifier()\n",
    "clf.fit(X_train, Y_train)\n",
    "\n",
    "train_predict = clf.predict(X_train).reshape(-1,1)\n",
    "test_predict = clf.predict(X_test).reshape(-1,1)"
   ]
  },
  {
   "cell_type": "markdown",
   "metadata": {},
   "source": [
    "We will now measure the accuracy of our classifier. Let's also look at the decisions taken by the classifier and compare it against the historical data (\"Overcast\" was shortened to \"Ovrcst\" for formatting reasons)"
   ]
  },
  {
   "cell_type": "code",
   "execution_count": null,
   "metadata": {},
   "outputs": [],
   "source": [
    "train_perf = accuracy_score(Y_train, train_predict)\n",
    "test_perf = accuracy_score(Y_test, test_predict)\n",
    "\n",
    "print(\"Train accuracy: %3.2f, Test accuracy: %3.2f\" % (train_perf, test_perf))\n",
    "# For convenience we transpose the X_train matrix so that each row\n",
    "# is one complete set of samples rather than attributes\n",
    "X_trans = X_test.transpose()\n",
    "\n",
    "# Get the labels\n",
    "X_labels = [o_l.inverse_transform(X_trans[0])]\n",
    "X_labels.append(t_l.inverse_transform(X_trans[1]))\n",
    "X_labels.append(h_l.inverse_transform(X_trans[2]))\n",
    "X_labels.append(w_l.inverse_transform(X_trans[3]))\n",
    "\n",
    "# Flatten the results vectors to suppress complaints from\n",
    "# LabelEncoder\n",
    "X_labels.append(d_l.inverse_transform(np.ravel(test_predict)))\n",
    "X_labels.append(d_l.inverse_transform(np.ravel(Y_test)))\n",
    "\n",
    "# Tranpose it back to num_samples x num_columns\n",
    "results = np.array(X_labels).transpose()\n",
    "\n",
    "for cname in tennis_data.columns:\n",
    "    print(cname + '\\t', end = '')\n",
    "\n",
    "print(\"Predicted\\tActual\")\n",
    "print(\"----------------------------------------------------------------------------------------------\\n\")\n",
    "\n",
    "for row in results:\n",
    "    for col in row:\n",
    "        print(\"%s\\t\\t\" % col, end = '')\n",
    "    print()\n",
    "print()                 "
   ]
  },
  {
   "cell_type": "markdown",
   "metadata": {},
   "source": [
    "Since a different set of training and testing data is used each time, you will get a different result. This is especially so here because of the tiny training set of just 9 samples. Nonetheless this is a simple example of how you can use decision trees."
   ]
  },
  {
   "cell_type": "code",
   "execution_count": null,
   "metadata": {},
   "outputs": [],
   "source": []
  },
  {
   "cell_type": "code",
   "execution_count": null,
   "metadata": {},
   "outputs": [],
   "source": []
  }
 ],
 "metadata": {
  "kernelspec": {
   "display_name": "Python 3 (ipykernel)",
   "language": "python",
   "name": "python3"
  },
  "language_info": {
   "codemirror_mode": {
    "name": "ipython",
    "version": 3
   },
   "file_extension": ".py",
   "mimetype": "text/x-python",
   "name": "python",
   "nbconvert_exporter": "python",
   "pygments_lexer": "ipython3",
   "version": "3.9.6"
  }
 },
 "nbformat": 4,
 "nbformat_minor": 2
}
