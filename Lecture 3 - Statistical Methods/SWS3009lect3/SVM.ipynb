{
 "cells": [
  {
   "cell_type": "markdown",
   "metadata": {},
   "source": [
    "# Creating Support Vector Machines in Python\n",
    "\n",
    "We will now continue our 20 Newsgroups Classifier, but this time with Support Vector Machines (SVMs) and compare the performance with the Multinomial Naive Bayes classifier from the previous section.\n",
    "\n",
    "Here we will use a linear SVM. To control overfitting we will use the L2 regularizer. All of this may not make much sense to you now but we will revisit them again later in this module.\n",
    "\n",
    "As a final note we will use \"hinge loss\" to measure how well our model fits the data during the training process.\n",
    "\n",
    "Let's begin! We start as always by importing our packages, and we will use a Pipeline to simplify our work. (Note: This will take several minutes to run; SVMs are slower to train than Naive-Bayes)"
   ]
  },
  {
   "cell_type": "code",
   "execution_count": null,
   "metadata": {},
   "outputs": [],
   "source": [
    "import numpy as np\n",
    "from sklearn.svm import LinearSVC\n",
    "from sklearn.pipeline import Pipeline\n",
    "from sklearn.feature_extraction.text import TfidfTransformer\n",
    "from sklearn.feature_extraction.text import CountVectorizer\n",
    "from sklearn.datasets import fetch_20newsgroups\n",
    "\n",
    "twenty_train = fetch_20newsgroups(subset = 'train', shuffle = True)\n",
    "twenty_test = fetch_20newsgroups(subset = 'test', shuffle = True)\n",
    "\n",
    "# The penalty here is \"L2\", with the \"L\" in lower-case. The penalty is NOT\n",
    "# the number 12.\n",
    "\n",
    "svc_clf = Pipeline([('vect', CountVectorizer(stop_words = 'english')),\n",
    "                   ('tfidf', TfidfTransformer()), \n",
    "                   ('svm', LinearSVC(loss = 'hinge', penalty = 'l2',\n",
    "                    random_state = 42, max_iter = 5000))])\n",
    "svc_clf.fit(twenty_train.data, twenty_train.target)\n",
    "predicted_svc = svc_clf.predict(twenty_test.data)\n",
    "perf_svc = np.mean(predicted_svc == twenty_test.target)\n",
    "\n",
    "\n",
    "print(\"Our 20 Newsgroup's SVM classifer correctly classified %3.4f%% of the articles.\" \n",
    "      % (perf_svc * 100.0))"
   ]
  },
  {
   "cell_type": "markdown",
   "metadata": {},
   "source": [
    "We now have a 85.24% accuracy! We can compare our results so far (These results were for when this document was written; since the datasets are shuffled you may get slightly different results)\n",
    "\n",
    "- NB with raw word counts: 77.28%\n",
    "- NB with tf.idf: 77.39%\n",
    "- NB with tf.idf and stop words: 81.69%\n",
    "- SVM: 85.24%\n"
   ]
  },
  {
   "cell_type": "code",
   "execution_count": null,
   "metadata": {},
   "outputs": [],
   "source": []
  }
 ],
 "metadata": {
  "kernelspec": {
   "display_name": "Python 3 (ipykernel)",
   "language": "python",
   "name": "python3"
  },
  "language_info": {
   "codemirror_mode": {
    "name": "ipython",
    "version": 3
   },
   "file_extension": ".py",
   "mimetype": "text/x-python",
   "name": "python",
   "nbconvert_exporter": "python",
   "pygments_lexer": "ipython3",
   "version": "3.9.6"
  }
 },
 "nbformat": 4,
 "nbformat_minor": 2
}
